{
 "cells": [
  {
   "cell_type": "code",
   "execution_count": 59,
   "metadata": {},
   "outputs": [
    {
     "name": "stdout",
     "output_type": "stream",
     "text": [
      "[ 10  20  30  40  50  60  70  80  90 100]\n"
     ]
    }
   ],
   "source": [
    "# 1. array joining\n",
    "import numpy as np\n",
    "a=np.array([10,20,30,40,50])\n",
    "b=np.array([60,70,80,90,100])\n",
    "c=np.concatenate((a,b))\n",
    "print(c)"
   ]
  },
  {
   "cell_type": "code",
   "execution_count": 60,
   "metadata": {},
   "outputs": [
    {
     "name": "stdout",
     "output_type": "stream",
     "text": [
      "[[ 10  20  30  40  50]\n",
      " [  1   2   3   4   5]\n",
      " [ 60  70  80  90 100]\n",
      " [  6   7   8   9  10]]\n"
     ]
    }
   ],
   "source": [
    "# 2. array joining with axis\n",
    "import numpy as np\n",
    "a=np.array([[10,20,30,40,50],[1,2,3,4,5]])\n",
    "b=np.array([[60,70,80,90,100],[6,7,8,9,10]])\n",
    "c=np.concatenate((a,b),axis=0)\n",
    "print(c)"
   ]
  },
  {
   "cell_type": "code",
   "execution_count": 61,
   "metadata": {},
   "outputs": [
    {
     "name": "stdout",
     "output_type": "stream",
     "text": [
      "[[ 10  60]\n",
      " [ 20  70]\n",
      " [ 30  80]\n",
      " [ 40  90]\n",
      " [ 50 100]]\n"
     ]
    }
   ],
   "source": [
    "# 3. array joining using stack with axis\n",
    "import numpy as np\n",
    "a=np.array([10,20,30,40,50])\n",
    "b=np.array([60,70,80,90,100])\n",
    "c=np.stack((a,b),axis=1)\n",
    "print(c)"
   ]
  },
  {
   "cell_type": "code",
   "execution_count": 62,
   "metadata": {},
   "outputs": [
    {
     "name": "stdout",
     "output_type": "stream",
     "text": [
      "[ 10  20  30  40  50  60  70  80  90 100]\n"
     ]
    }
   ],
   "source": [
    "# 4.Stacking Along row \n",
    "import numpy as np\n",
    "a=np.array([10,20,30,40,50])\n",
    "b=np.array([60,70,80,90,100])\n",
    "c=np.hstack((a,b))\n",
    "print(c)"
   ]
  },
  {
   "cell_type": "code",
   "execution_count": 63,
   "metadata": {},
   "outputs": [
    {
     "name": "stdout",
     "output_type": "stream",
     "text": [
      "[[ 10  20  30  40  50]\n",
      " [ 60  70  80  90 100]]\n"
     ]
    }
   ],
   "source": [
    "# 5.Stacking Along column\n",
    "import numpy as np\n",
    "a=np.array([10,20,30,40,50])\n",
    "b=np.array([60,70,80,90,100])\n",
    "c=np.vstack((a,b))\n",
    "print(c)"
   ]
  },
  {
   "cell_type": "code",
   "execution_count": 57,
   "metadata": {},
   "outputs": [
    {
     "name": "stdout",
     "output_type": "stream",
     "text": [
      "[[[ 10  60]\n",
      "  [ 20  70]\n",
      "  [ 30  80]\n",
      "  [ 40  90]\n",
      "  [ 50 100]]]\n"
     ]
    }
   ],
   "source": [
    "# 6.Stacking Along height\n",
    "import numpy as np\n",
    "a=np.array([10,20,30,40,50])\n",
    "b=np.array([60,70,80,90,100])\n",
    "c=np.dstack((a,b))\n",
    "print(c)"
   ]
  }
 ],
 "metadata": {
  "kernelspec": {
   "display_name": "Python 3",
   "language": "python",
   "name": "python3"
  },
  "language_info": {
   "codemirror_mode": {
    "name": "ipython",
    "version": 3
   },
   "file_extension": ".py",
   "mimetype": "text/x-python",
   "name": "python",
   "nbconvert_exporter": "python",
   "pygments_lexer": "ipython3",
   "version": "3.8.3"
  }
 },
 "nbformat": 4,
 "nbformat_minor": 4
}
