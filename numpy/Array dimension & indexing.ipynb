{
 "cells": [
  {
   "cell_type": "code",
   "execution_count": 1,
   "metadata": {},
   "outputs": [
    {
     "name": "stdout",
     "output_type": "stream",
     "text": [
      "[list([[11, 22, 33, 44], [55, 66, 77, 88], [99, 98, 97, 96]])\n",
      " list([[12, 13, 14]])]\n"
     ]
    }
   ],
   "source": [
    "# 6.3D Array\n",
    "import numpy as np\n",
    "a=np.array([[[11,22,33,44],[55,66,77,88],[99,98,97,96]],[[12,13,14]]])\n",
    "print(a)"
   ]
  },
  {
   "cell_type": "code",
   "execution_count": 15,
   "metadata": {},
   "outputs": [
    {
     "name": "stdout",
     "output_type": "stream",
     "text": [
      "3\n",
      "2\n",
      "1\n",
      "0\n"
     ]
    }
   ],
   "source": [
    "# 7.array dimension finding\n",
    "import numpy as np\n",
    "a = np.array([[[11,22,33],[55,66,77],[12,13,14]],[[10,20,30],[50,60,70],[20,30,40]]])\n",
    "print(a.ndim)\n",
    "b=np.array([[11,22,33,44],[55,66,77,88]])\n",
    "print(b.ndim)\n",
    "c=np.array([11,22,33,44])\n",
    "print(c.ndim)\n",
    "d=np.array(11)\n",
    "print(d.ndim)"
   ]
  },
  {
   "cell_type": "code",
   "execution_count": 3,
   "metadata": {},
   "outputs": [
    {
     "name": "stdout",
     "output_type": "stream",
     "text": [
      "[[[[[[[[[[100 200 300 400]]]]]]]]]]\n",
      "10\n"
     ]
    }
   ],
   "source": [
    "# 8.for higher dimension\n",
    "import numpy as np\n",
    "a=np.array([100,200,300,400],ndmin=10)\n",
    "print(a)\n",
    "print(a.ndim)"
   ]
  },
  {
   "cell_type": "code",
   "execution_count": 16,
   "metadata": {},
   "outputs": [
    {
     "name": "stdout",
     "output_type": "stream",
     "text": [
      "77\n"
     ]
    }
   ],
   "source": [
    "# 9. accessing the 2D array using index\n",
    "import numpy as np\n",
    "b=np.array([[11,22,33,44],[55,66,77,88]])\n",
    "print(b[1,2])"
   ]
  },
  {
   "cell_type": "code",
   "execution_count": 27,
   "metadata": {},
   "outputs": [
    {
     "name": "stdout",
     "output_type": "stream",
     "text": [
      "22\n"
     ]
    }
   ],
   "source": [
    "# 9. negative indexing\n",
    "import numpy as np\n",
    "b=np.array([[11,22,33,44],[55,66,77,88]])\n",
    "print(b[0,-3])"
   ]
  },
  {
   "cell_type": "code",
   "execution_count": 28,
   "metadata": {},
   "outputs": [
    {
     "name": "stdout",
     "output_type": "stream",
     "text": [
      "-2\n"
     ]
    }
   ],
   "source": [
    "#10.accessing values and performing substraction\n",
    "import numpy as np\n",
    "a=np.array([1, 2, 3, 4])\n",
    "print(a[0]-a[2])"
   ]
  }
 ],
 "metadata": {
  "kernelspec": {
   "display_name": "Python 3",
   "language": "python",
   "name": "python3"
  },
  "language_info": {
   "codemirror_mode": {
    "name": "ipython",
    "version": 3
   },
   "file_extension": ".py",
   "mimetype": "text/x-python",
   "name": "python",
   "nbconvert_exporter": "python",
   "pygments_lexer": "ipython3",
   "version": "3.8.3"
  }
 },
 "nbformat": 4,
 "nbformat_minor": 4
}
