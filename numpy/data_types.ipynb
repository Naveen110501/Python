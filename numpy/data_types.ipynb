{
 "cells": [
  {
   "cell_type": "code",
   "execution_count": 1,
   "metadata": {},
   "outputs": [
    {
     "name": "stdout",
     "output_type": "stream",
     "text": [
      "<U7\n"
     ]
    }
   ],
   "source": [
    "# 1.finding a datatype\n",
    "import numpy as np\n",
    "a=np.array(['sainadh','sakthi','naveen'])\n",
    "print(a.dtype)"
   ]
  },
  {
   "cell_type": "code",
   "execution_count": 3,
   "metadata": {},
   "outputs": [
    {
     "name": "stdout",
     "output_type": "stream",
     "text": [
      "[b'10' b'20' b'30' b'40']\n",
      "|S2\n"
     ]
    }
   ],
   "source": [
    "# 2.assigning a datatype\n",
    "import numpy as np\n",
    "a=np.array([10,20,30,40], dtype='S')\n",
    "print(a)\n",
    "print(a.dtype)"
   ]
  },
  {
   "cell_type": "code",
   "execution_count": 6,
   "metadata": {},
   "outputs": [
    {
     "name": "stdout",
     "output_type": "stream",
     "text": [
      "[10 20 30]\n",
      "int32\n"
     ]
    }
   ],
   "source": [
    "# 3.datatype conversion\n",
    "import numpy as np\n",
    "a=np.array([10.1, 20.1,30])\n",
    "b=a.astype('i')\n",
    "print(b)\n",
    "print(b.dtype)"
   ]
  },
  {
   "cell_type": "code",
   "execution_count": 9,
   "metadata": {},
   "outputs": [
    {
     "name": "stdout",
     "output_type": "stream",
     "text": [
      "[ True  True  True False]\n",
      "bool\n"
     ]
    }
   ],
   "source": [
    "# 4.datatype of boolean\n",
    "import numpy as np\n",
    "a=np.array([11,22,30,0])\n",
    "b=a.astype(bool)\n",
    "print(b)\n",
    "print(b.dtype)"
   ]
  },
  {
   "cell_type": "code",
   "execution_count": 10,
   "metadata": {},
   "outputs": [
    {
     "name": "stdout",
     "output_type": "stream",
     "text": [
      "[1 2 3]\n",
      "int32\n"
     ]
    }
   ],
   "source": [
    "# 5.another way of datatype conversion\n",
    "import numpy as np\n",
    "a=np.array([1.124, 2.135, 3.112])\n",
    "b=a.astype(int)\n",
    "print(b)\n",
    "print(b.dtype)"
   ]
  }
 ],
 "metadata": {
  "kernelspec": {
   "display_name": "Python 3",
   "language": "python",
   "name": "python3"
  },
  "language_info": {
   "codemirror_mode": {
    "name": "ipython",
    "version": 3
   },
   "file_extension": ".py",
   "mimetype": "text/x-python",
   "name": "python",
   "nbconvert_exporter": "python",
   "pygments_lexer": "ipython3",
   "version": "3.8.3"
  }
 },
 "nbformat": 4,
 "nbformat_minor": 4
}
