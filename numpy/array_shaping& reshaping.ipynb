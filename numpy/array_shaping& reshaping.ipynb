{
 "cells": [
  {
   "cell_type": "code",
   "execution_count": 38,
   "metadata": {},
   "outputs": [
    {
     "name": "stdout",
     "output_type": "stream",
     "text": [
      "(2, 5)\n"
     ]
    }
   ],
   "source": [
    "# 1.finding an shape of an array\n",
    "import numpy as np\n",
    "a=np.array([[10, 22, 30, 44,11], [50,66,77,80,99]])\n",
    "print(a.shape)"
   ]
  },
  {
   "cell_type": "code",
   "execution_count": 39,
   "metadata": {},
   "outputs": [
    {
     "name": "stdout",
     "output_type": "stream",
     "text": [
      "[[[[1 2 3 4]]]]\n",
      "shape : (1, 1, 1, 4)\n"
     ]
    }
   ],
   "source": [
    "# 2. assigning an shape to an array\n",
    "import numpy as np\n",
    "a=np.array([1,2,3,4], ndmin=4)\n",
    "print(a)\n",
    "print('shape :',a.shape)"
   ]
  },
  {
   "cell_type": "code",
   "execution_count": 40,
   "metadata": {},
   "outputs": [
    {
     "name": "stdout",
     "output_type": "stream",
     "text": [
      "[[ 10  20]\n",
      " [ 30  40]\n",
      " [ 50  60]\n",
      " [ 70  80]\n",
      " [ 90 100]]\n"
     ]
    }
   ],
   "source": [
    "# 3.reshaping an array\n",
    "import numpy as np\n",
    "a=np.array([10,20,30,40,50,60,70,80,90,100])\n",
    "b=a.reshape(5,2)\n",
    "print(b)"
   ]
  },
  {
   "cell_type": "code",
   "execution_count": 33,
   "metadata": {},
   "outputs": [
    {
     "name": "stdout",
     "output_type": "stream",
     "text": [
      "[[[ 10]\n",
      "  [ 20]]\n",
      "\n",
      " [[ 30]\n",
      "  [ 40]]\n",
      "\n",
      " [[ 50]\n",
      "  [ 60]]\n",
      "\n",
      " [[ 70]\n",
      "  [ 80]]\n",
      "\n",
      " [[ 90]\n",
      "  [100]]]\n"
     ]
    }
   ],
   "source": [
    "# 4. reshaping an array\n",
    "import numpy as np\n",
    "a=np.array([10,20,30,40,50,60,70,80,90,100])\n",
    "b=a.reshape(5,2,1)\n",
    "print(b)"
   ]
  },
  {
   "cell_type": "code",
   "execution_count": 35,
   "metadata": {},
   "outputs": [
    {
     "name": "stdout",
     "output_type": "stream",
     "text": [
      "[10 20 33 44 50 60 70 88]\n"
     ]
    }
   ],
   "source": [
    "# 5.using base attribute\n",
    "import numpy as np\n",
    "a=np.array([10,20,33,44,50,60,70,88])\n",
    "print(a.reshape(2, 4).base)"
   ]
  },
  {
   "cell_type": "code",
   "execution_count": 36,
   "metadata": {},
   "outputs": [
    {
     "name": "stdout",
     "output_type": "stream",
     "text": [
      "[[[ 1  2]\n",
      "  [ 3  4]\n",
      "  [ 5  6]]\n",
      "\n",
      " [[ 7  8]\n",
      "  [ 9 10]\n",
      "  [11 12]]]\n"
     ]
    }
   ],
   "source": [
    "# 6.unknown dimension\n",
    "import numpy as np\n",
    "arr=np.array([1, 2, 3, 4, 5, 6, 7, 8, 9, 10, 11, 12])\n",
    "newarr=arr.reshape(2, 3,-1)\n",
    "print(newarr)"
   ]
  },
  {
   "cell_type": "code",
   "execution_count": 37,
   "metadata": {},
   "outputs": [
    {
     "name": "stdout",
     "output_type": "stream",
     "text": [
      "[11 22 33 44 55 66 77 88]\n"
     ]
    }
   ],
   "source": [
    "# 7.flattening an array\n",
    "import numpy as np\n",
    "a=np.array([[11,22,33,44], [55,66,77,88]])\n",
    "b=a.reshape(-1)\n",
    "print(b)"
   ]
  }
 ],
 "metadata": {
  "kernelspec": {
   "display_name": "Python 3",
   "language": "python",
   "name": "python3"
  },
  "language_info": {
   "codemirror_mode": {
    "name": "ipython",
    "version": 3
   },
   "file_extension": ".py",
   "mimetype": "text/x-python",
   "name": "python",
   "nbconvert_exporter": "python",
   "pygments_lexer": "ipython3",
   "version": "3.8.3"
  }
 },
 "nbformat": 4,
 "nbformat_minor": 4
}
