{
 "cells": [
  {
   "cell_type": "code",
   "execution_count": 20,
   "metadata": {},
   "outputs": [
    {
     "name": "stdout",
     "output_type": "stream",
     "text": [
      "[11 22 30 44 50 66 70]\n",
      "[11 22 30 44 50 66 70]\n"
     ]
    }
   ],
   "source": [
    "# 1. copying an array\n",
    "a=np.array([11,22,30,44,50,66,70])\n",
    "b=a.copy()\n",
    "print(a)\n",
    "print(b)"
   ]
  },
  {
   "cell_type": "code",
   "execution_count": 23,
   "metadata": {},
   "outputs": [
    {
     "name": "stdout",
     "output_type": "stream",
     "text": [
      "[11 99 30 44 50 66 70]\n",
      "[11 22 88 44 50 66 70]\n"
     ]
    }
   ],
   "source": [
    "# 2.copying an array with additional values\n",
    "a=np.array([11,22,30,44,50,66,70])\n",
    "b=a.copy()\n",
    "a[1]=99\n",
    "b[2]=88\n",
    "print(a)\n",
    "print(b)"
   ]
  },
  {
   "cell_type": "code",
   "execution_count": 24,
   "metadata": {},
   "outputs": [
    {
     "name": "stdout",
     "output_type": "stream",
     "text": [
      "[11 22 30 44 50 66 70]\n",
      "[11 22 30 44 50 66 70]\n"
     ]
    }
   ],
   "source": [
    "# 3.viewing an array\n",
    "a=np.array([11,22,30,44,50,66,70])\n",
    "b=a.view()\n",
    "print(a)\n",
    "print(b)"
   ]
  },
  {
   "cell_type": "code",
   "execution_count": 22,
   "metadata": {},
   "outputs": [
    {
     "name": "stdout",
     "output_type": "stream",
     "text": [
      "[11 99 88 44 50 66 70]\n",
      "[11 99 88 44 50 66 70]\n"
     ]
    }
   ],
   "source": [
    "# 4.viewing an array with additional values\n",
    "a=np.array([11,22,30,44,50,66,70])\n",
    "b=a.view()\n",
    "a[1]=99\n",
    "b[2]=88\n",
    "print(a)\n",
    "print(b)"
   ]
  },
  {
   "cell_type": "code",
   "execution_count": 21,
   "metadata": {},
   "outputs": [
    {
     "name": "stdout",
     "output_type": "stream",
     "text": [
      "None\n",
      "[10 22 30 40 55]\n"
     ]
    }
   ],
   "source": [
    "# 5. using an base attribute\n",
    "import numpy as np\n",
    "nav=np.array([10,22,30,40,55])\n",
    "a=nav.copy()\n",
    "b=nav.view()\n",
    "print(a.base)\n",
    "print(b.base)"
   ]
  }
 ],
 "metadata": {
  "kernelspec": {
   "display_name": "Python 3",
   "language": "python",
   "name": "python3"
  },
  "language_info": {
   "codemirror_mode": {
    "name": "ipython",
    "version": 3
   },
   "file_extension": ".py",
   "mimetype": "text/x-python",
   "name": "python",
   "nbconvert_exporter": "python",
   "pygments_lexer": "ipython3",
   "version": "3.8.3"
  }
 },
 "nbformat": 4,
 "nbformat_minor": 4
}
