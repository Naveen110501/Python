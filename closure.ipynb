{
 "cells": [
  {
   "cell_type": "code",
   "execution_count": 2,
   "metadata": {},
   "outputs": [
    {
     "name": "stdout",
     "output_type": "stream",
     "text": [
      "python\n"
     ]
    }
   ],
   "source": [
    "# 17.implemetion of closure\n",
    "def nav(a):\n",
    " def my():\n",
    "    print(a)\n",
    " return my\n",
    "obj=nav('python')\n",
    "obj()"
   ]
  },
  {
   "cell_type": "code",
   "execution_count": 6,
   "metadata": {},
   "outputs": [
    {
     "name": "stdout",
     "output_type": "stream",
     "text": [
      "area of square\n",
      "25\n"
     ]
    }
   ],
   "source": [
    "# 18. finding area using closure without parameter\n",
    "def find(a):\n",
    " def area():\n",
    "    print(\"area of square\")\n",
    "    return a*a\n",
    " return area\n",
    "obj=find(5)\n",
    "print(obj())"
   ]
  },
  {
   "cell_type": "code",
   "execution_count": 7,
   "metadata": {},
   "outputs": [
    {
     "name": "stdout",
     "output_type": "stream",
     "text": [
      "area of rectangle\n",
      "50\n"
     ]
    }
   ],
   "source": [
    "# 19. finding area using closure with parameter\n",
    "def find(a):\n",
    " def area(b):\n",
    "    print(\"area of rectangle\")\n",
    "    return a*b\n",
    " return area\n",
    "obj=find(5)\n",
    "print(obj(10))"
   ]
  },
  {
   "cell_type": "code",
   "execution_count": 11,
   "metadata": {},
   "outputs": [
    {
     "name": "stdout",
     "output_type": "stream",
     "text": [
      "the elements are\n",
      "naveen\n",
      "2\n",
      "sakthi\n",
      "3\n"
     ]
    }
   ],
   "source": [
    "# 20.retrival of list using closure\n",
    "def my(a):\n",
    " def count():\n",
    "    for i in a:\n",
    "     print(i)\n",
    " return count\n",
    "a=('naveen',2,\"sakthi\",3)\n",
    "nav=my(a)\n",
    "print(\"the elements are\")\n",
    "nav()"
   ]
  }
 ],
 "metadata": {
  "kernelspec": {
   "display_name": "Python 3",
   "language": "python",
   "name": "python3"
  },
  "language_info": {
   "codemirror_mode": {
    "name": "ipython",
    "version": 3
   },
   "file_extension": ".py",
   "mimetype": "text/x-python",
   "name": "python",
   "nbconvert_exporter": "python",
   "pygments_lexer": "ipython3",
   "version": "3.8.3"
  }
 },
 "nbformat": 4,
 "nbformat_minor": 4
}
