{
 "cells": [
  {
   "cell_type": "code",
   "execution_count": 39,
   "metadata": {},
   "outputs": [
    {
     "name": "stdout",
     "output_type": "stream",
     "text": [
      "elements are :\n",
      "naveen\n",
      "sakthi\n",
      "2018\n",
      "2019\n"
     ]
    }
   ],
   "source": [
    "# 24. creation of tuple\n",
    "a=(\"naveen\",\"sakthi\",2018,2019)\n",
    "print(\"elements are :\")\n",
    "for i in a:\n",
    " print(i)"
   ]
  },
  {
   "cell_type": "code",
   "execution_count": 33,
   "metadata": {},
   "outputs": [
    {
     "name": "stdout",
     "output_type": "stream",
     "text": [
      "elements is :\n",
      "2019\n",
      "the range of elements are:\n",
      "('sakthi', 2018)\n",
      "the all elements are :\n",
      "('naveen', 'sakthi', 2018, 2019)\n"
     ]
    }
   ],
   "source": [
    "# 25.accessing the index\n",
    "a=(\"naveen\",\"sakthi\",2018,2019)\n",
    "print(\"elements is :\")\n",
    "print(a[-1])\n",
    "print(\"the range of elements are:\")\n",
    "print(a[-3:-1])\n",
    "print(\"the all elements are :\")\n",
    "print(a[0:4])"
   ]
  },
  {
   "cell_type": "code",
   "execution_count": 36,
   "metadata": {},
   "outputs": [
    {
     "name": "stdout",
     "output_type": "stream",
     "text": [
      "elements is :\n",
      "('naveen', 'sakthi', 2018, 2019)\n",
      "elements present in list\n",
      "['naveen', 'sakthi', 2018, 2019]\n",
      "after updation\n",
      "('sainadh', 'naveen', 'sakthi', 2018, 2019)\n"
     ]
    }
   ],
   "source": [
    "# 26.tuple to list conversion\n",
    "a=(\"naveen\",\"sakthi\",2018,2019)\n",
    "print(\"elements is :\")\n",
    "print(a)\n",
    "b=list(a)\n",
    "print(\"elements present in list\")\n",
    "print(b)\n",
    "b.insert(0,\"sainadh\")\n",
    "a=tuple(b)\n",
    "print(\"after updation\")\n",
    "print(a)\n"
   ]
  },
  {
   "cell_type": "code",
   "execution_count": 40,
   "metadata": {},
   "outputs": [
    {
     "name": "stdout",
     "output_type": "stream",
     "text": [
      "elements is :\n",
      "('naveen', 'sakthi', 2018, 2019)\n",
      "elements is :\n",
      "('sainadh', 'mit', 2020)\n",
      "after joining :\n",
      "('naveen', 'sakthi', 2018, 2019, 'sainadh', 'mit', 2020)\n"
     ]
    }
   ],
   "source": [
    "# 27.concatenation of tuples\n",
    "a=(\"naveen\",\"sakthi\",2018,2019)\n",
    "print(\"elements is :\")\n",
    "print(a)\n",
    "b=(\"sainadh\",\"mit\",2020)\n",
    "print(\"elements is :\")\n",
    "print(b)\n",
    "c=a+b\n",
    "print(\"after joining :\")\n",
    "print(c)"
   ]
  },
  {
   "cell_type": "code",
   "execution_count": 47,
   "metadata": {},
   "outputs": [
    {
     "name": "stdout",
     "output_type": "stream",
     "text": [
      "elements is :\n",
      "('naveen', 'sakthi', 2018, 2019)\n",
      "the occurence is :\n",
      "1\n",
      "the length of tuple :\n",
      "4\n"
     ]
    }
   ],
   "source": [
    "#28.tuples functions\n",
    "a=(\"naveen\",\"sakthi\",2018,2019)\n",
    "print(\"elements is :\")\n",
    "print(a)\n",
    "print(\"the occurence is :\")\n",
    "print(a.count(2019))\n",
    "print(\"the length of tuple :\")\n",
    "print(len(a))"
   ]
  },
  {
   "cell_type": "code",
   "execution_count": null,
   "metadata": {},
   "outputs": [],
   "source": []
  }
 ],
 "metadata": {
  "kernelspec": {
   "display_name": "Python 3",
   "language": "python",
   "name": "python3"
  },
  "language_info": {
   "codemirror_mode": {
    "name": "ipython",
    "version": 3
   },
   "file_extension": ".py",
   "mimetype": "text/x-python",
   "name": "python",
   "nbconvert_exporter": "python",
   "pygments_lexer": "ipython3",
   "version": "3.8.3"
  }
 },
 "nbformat": 4,
 "nbformat_minor": 4
}
