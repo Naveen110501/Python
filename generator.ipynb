{
 "cells": [
  {
   "cell_type": "code",
   "execution_count": 28,
   "metadata": {},
   "outputs": [
    {
     "name": "stdout",
     "output_type": "stream",
     "text": [
      "odd number :\n",
      "5\n",
      "even number :\n",
      "4\n",
      "odd number :\n",
      "3\n",
      "even number :\n",
      "2\n",
      "odd number :\n",
      "1\n",
      "even number :\n",
      "0\n",
      "negative number :\n",
      "-1\n"
     ]
    }
   ],
   "source": [
    "# 14.finding a number odd or even or negative using generator\n",
    "def find(a):\n",
    " while a>-2 :\n",
    "  if a%2==0:\n",
    "    print(\"even number :\")\n",
    "    yield a\n",
    "    a=a-1\n",
    "  elif a<0:\n",
    "    print(\"negative number :\")\n",
    "    yield a\n",
    "    a=a-1\n",
    "  else:\n",
    "    print(\"odd number :\")\n",
    "    yield a\n",
    "    a=a-1\n",
    "my=find(5)\n",
    "for j in find(5):\n",
    " print(j)\n",
    "\n"
   ]
  },
  {
   "cell_type": "code",
   "execution_count": 47,
   "metadata": {},
   "outputs": [
    {
     "name": "stdout",
     "output_type": "stream",
     "text": [
      "the elements are\n",
      "1\n",
      "2\n",
      "3\n",
      "naveen\n"
     ]
    }
   ],
   "source": [
    "# 15.retrival data using generator\n",
    "def add(a):\n",
    " for i in a:\n",
    "  yield i\n",
    "a=(1,2,3,'naveen')\n",
    "print(\"the elements are\")\n",
    "for j in add(a):\n",
    "    print(j)\n",
    "\n",
    "                                                                  "
   ]
  },
  {
   "cell_type": "code",
   "execution_count": 50,
   "metadata": {},
   "outputs": [
    {
     "name": "stdout",
     "output_type": "stream",
     "text": [
      "the charatcer are\n",
      "n\n",
      "a\n",
      "v\n",
      "e\n",
      "e\n",
      "n\n"
     ]
    }
   ],
   "source": [
    "# 16.accessing string using generator\n",
    "def nav(b):\n",
    " for i in b:\n",
    "  yield i\n",
    "b='naveen'\n",
    "print(\"the charatcer are\")\n",
    "for j in nav(b):\n",
    "    print(j)"
   ]
  },
  {
   "cell_type": "code",
   "execution_count": null,
   "metadata": {},
   "outputs": [],
   "source": []
  }
 ],
 "metadata": {
  "kernelspec": {
   "display_name": "Python 3",
   "language": "python",
   "name": "python3"
  }
 },
 "nbformat": 4,
 "nbformat_minor": 4
}
