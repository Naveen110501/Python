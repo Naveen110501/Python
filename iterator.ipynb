{
 "cells": [
  {
   "cell_type": "code",
   "execution_count": 8,
   "metadata": {},
   "outputs": [
    {
     "name": "stdout",
     "output_type": "stream",
     "text": [
      "ceg\n",
      "mit\n",
      "sap\n"
     ]
    }
   ],
   "source": [
    "# 10.Iterator initialization\n",
    "college=(\"ceg\",\"mit\",\"sap\",\"act\")\n",
    "my=iter(college)\n",
    "print(next(my))\n",
    "print(next(my))\n",
    "print(next(my))"
   ]
  },
  {
   "cell_type": "code",
   "execution_count": 23,
   "metadata": {},
   "outputs": [
    {
     "name": "stdout",
     "output_type": "stream",
     "text": [
      "ceg\n",
      "mit\n",
      "sap\n",
      "act\n"
     ]
    }
   ],
   "source": [
    "# 11.retrival list using Iterator \n",
    "college=(\"ceg\",\"mit\",\"sap\",\"act\")\n",
    "for i in college:\n",
    " print(i)"
   ]
  },
  {
   "cell_type": "code",
   "execution_count": 48,
   "metadata": {},
   "outputs": [
    {
     "name": "stdout",
     "output_type": "stream",
     "text": [
      "1\n",
      "2\n",
      "3\n"
     ]
    },
    {
     "ename": "StopIteration",
     "evalue": "",
     "output_type": "error",
     "traceback": [
      "\u001b[1;31m---------------------------------------------------------------------------\u001b[0m",
      "\u001b[1;31mStopIteration\u001b[0m                             Traceback (most recent call last)",
      "\u001b[1;32m<ipython-input-48-f5b0efe5de73>\u001b[0m in \u001b[0;36m<module>\u001b[1;34m\u001b[0m\n\u001b[0;32m      5\u001b[0m     \u001b[0mprint\u001b[0m\u001b[1;33m(\u001b[0m\u001b[0mi\u001b[0m\u001b[1;33m)\u001b[0m\u001b[1;33m\u001b[0m\u001b[1;33m\u001b[0m\u001b[0m\n\u001b[0;32m      6\u001b[0m  \u001b[1;32melse\u001b[0m \u001b[1;33m:\u001b[0m\u001b[1;33m\u001b[0m\u001b[1;33m\u001b[0m\u001b[0m\n\u001b[1;32m----> 7\u001b[1;33m     \u001b[1;32mraise\u001b[0m \u001b[0mStopIteration\u001b[0m\u001b[1;33m\u001b[0m\u001b[1;33m\u001b[0m\u001b[0m\n\u001b[0m\u001b[0;32m      8\u001b[0m \u001b[1;33m\u001b[0m\u001b[0m\n",
      "\u001b[1;31mStopIteration\u001b[0m: "
     ]
    }
   ],
   "source": [
    "# 12. using stopIteration statement\n",
    "x=(1,2,3,-1,4,5)\n",
    "for i in x:\n",
    " if i > 0 :\n",
    "    print(i)\n",
    " else :\n",
    "    raise StopIteration\n",
    "    "
   ]
  },
  {
   "cell_type": "code",
   "execution_count": 47,
   "metadata": {},
   "outputs": [
    {
     "name": "stdout",
     "output_type": "stream",
     "text": [
      "after addition\n",
      "6\n",
      "11\n",
      "15\n",
      "18\n",
      "20\n",
      "21\n"
     ]
    }
   ],
   "source": [
    "# 13.sum of n natural number using iterator\n",
    "class find:\n",
    "    def __iter__(self):\n",
    "     self.n=6\n",
    "     self.sum=0\n",
    "     return self\n",
    "    def __next__(self):\n",
    "     m=self.n\n",
    "     if(0<self.n):\n",
    "      self.sum+=self.n\n",
    "      self.n-=1\n",
    "     else:\n",
    "      raise StopIteration\n",
    "     return self.sum\n",
    "obj=iter(m)\n",
    "print(\"after addition\")\n",
    "for i in find():\n",
    " print(obj.__next__())\n",
    "\n",
    "    \n",
    "    "
   ]
  }
 ],
 "metadata": {
  "kernelspec": {
   "display_name": "Python 3",
   "language": "python",
   "name": "python3"
  },
  "language_info": {
   "codemirror_mode": {
    "name": "ipython",
    "version": 3
   },
   "file_extension": ".py",
   "mimetype": "text/x-python",
   "name": "python",
   "nbconvert_exporter": "python",
   "pygments_lexer": "ipython3",
   "version": "3.8.3"
  }
 },
 "nbformat": 4,
 "nbformat_minor": 4
}
