{
 "cells": [
  {
   "cell_type": "code",
   "execution_count": 28,
   "metadata": {},
   "outputs": [
    {
     "name": "stdout",
     "output_type": "stream",
     "text": [
      "Private variable\n",
      "90\n",
      "Protected variable\n",
      "100\n",
      "public variable\n",
      "10\n"
     ]
    }
   ],
   "source": [
    "# 4.access modifier\n",
    "class add:\n",
    "    def sum(self,c):\n",
    "     self.__a=90\n",
    "     self._b=100\n",
    "     self.c=c\n",
    "    def value(self):\n",
    "     print(\"Private variable\")\n",
    "     print(self.__a)\n",
    "my=add()\n",
    "my.sum(10)\n",
    "my.value()\n",
    "print(\"Protected variable\")\n",
    "print(my._b)\n",
    "print(\"public variable\")\n",
    "print(my.c)"
   ]
  },
  {
   "cell_type": "code",
   "execution_count": null,
   "metadata": {},
   "outputs": [],
   "source": []
  }
 ],
 "metadata": {
  "kernelspec": {
   "display_name": "Python 3",
   "language": "python",
   "name": "python3"
  },
  "language_info": {
   "codemirror_mode": {
    "name": "ipython",
    "version": 3
   },
   "file_extension": ".py",
   "mimetype": "text/x-python",
   "name": "python",
   "nbconvert_exporter": "python",
   "pygments_lexer": "ipython3",
   "version": "3.8.3"
  }
 },
 "nbformat": 4,
 "nbformat_minor": 4
}
