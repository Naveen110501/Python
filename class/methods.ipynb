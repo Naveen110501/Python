{
 "cells": [
  {
   "cell_type": "code",
   "execution_count": 25,
   "metadata": {},
   "outputs": [
    {
     "name": "stdout",
     "output_type": "stream",
     "text": [
      "instance method\n",
      "naveen\n"
     ]
    }
   ],
   "source": [
    "# 5.instance method\n",
    "class name:\n",
    "    def find(self):\n",
    "     print(\"instance method\")\n",
    "     print(\"naveen\")\n",
    "my=name()\n",
    "my.find()"
   ]
  },
  {
   "cell_type": "code",
   "execution_count": 26,
   "metadata": {},
   "outputs": [
    {
     "name": "stdout",
     "output_type": "stream",
     "text": [
      "static method\n",
      "sakthi\n"
     ]
    }
   ],
   "source": [
    "# 6.static method\n",
    "class name:\n",
    "    @staticmethod\n",
    "    def find():\n",
    "     print(\"static method\")\n",
    "     print(\"sakthi\")\n",
    "name.find()"
   ]
  },
  {
   "cell_type": "code",
   "execution_count": 27,
   "metadata": {},
   "outputs": [
    {
     "name": "stdout",
     "output_type": "stream",
     "text": [
      "class method\n",
      "sainadh\n"
     ]
    }
   ],
   "source": [
    "# 7.class method\n",
    "class name:\n",
    "    @classmethod\n",
    "    def find(cls):\n",
    "     print(\"class method\")\n",
    "     print(\"sainadh\")\n",
    "name.find()"
   ]
  },
  {
   "cell_type": "code",
   "execution_count": null,
   "metadata": {},
   "outputs": [],
   "source": []
  }
 ],
 "metadata": {
  "kernelspec": {
   "display_name": "Python 3",
   "language": "python",
   "name": "python3"
  },
  "language_info": {
   "codemirror_mode": {
    "name": "ipython",
    "version": 3
   },
   "file_extension": ".py",
   "mimetype": "text/x-python",
   "name": "python",
   "nbconvert_exporter": "python",
   "pygments_lexer": "ipython3",
   "version": "3.8.3"
  }
 },
 "nbformat": 4,
 "nbformat_minor": 4
}
