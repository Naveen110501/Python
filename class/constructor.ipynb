{
 "cells": [
  {
   "cell_type": "code",
   "execution_count": 23,
   "metadata": {},
   "outputs": [
    {
     "name": "stdout",
     "output_type": "stream",
     "text": [
      "addition\n",
      "30\n"
     ]
    }
   ],
   "source": [
    "# 8.constructor(parameterless)\n",
    "class name:\n",
    "    def __init__(self):\n",
    "        self.a=10\n",
    "        self.b=20\n",
    "    def find(self):\n",
    "     print(\"addition\")\n",
    "     print(self.a+self.b)\n",
    "my=name()\n",
    "my.find()"
   ]
  },
  {
   "cell_type": "code",
   "execution_count": 24,
   "metadata": {},
   "outputs": [
    {
     "name": "stdout",
     "output_type": "stream",
     "text": [
      "addition\n",
      "35\n"
     ]
    }
   ],
   "source": [
    "# 9.constructor(parametered)\n",
    "class name:\n",
    "    def __init__(self,c):\n",
    "        self.a=10\n",
    "        self.b=20\n",
    "        self.c=c\n",
    "    def find(self):\n",
    "     print(\"addition\")\n",
    "     print(self.a+self.b+self.c)\n",
    "my=name(5)\n",
    "my.find()"
   ]
  },
  {
   "cell_type": "code",
   "execution_count": null,
   "metadata": {},
   "outputs": [],
   "source": []
  }
 ],
 "metadata": {
  "kernelspec": {
   "display_name": "Python 3",
   "language": "python",
   "name": "python3"
  },
  "language_info": {
   "codemirror_mode": {
    "name": "ipython",
    "version": 3
   },
   "file_extension": ".py",
   "mimetype": "text/x-python",
   "name": "python",
   "nbconvert_exporter": "python",
   "pygments_lexer": "ipython3",
   "version": "3.8.3"
  }
 },
 "nbformat": 4,
 "nbformat_minor": 4
}
