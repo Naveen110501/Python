{
 "cells": [
  {
   "cell_type": "code",
   "execution_count": 43,
   "metadata": {},
   "outputs": [
    {
     "name": "stdout",
     "output_type": "stream",
     "text": [
      "instance variable\n",
      "60\n"
     ]
    }
   ],
   "source": [
    "# 1.instance variable\n",
    "class add:\n",
    "    def sum(self,c):\n",
    "     self.a=10\n",
    "     self.b=20\n",
    "     self.c=c\n",
    "    def value(self):\n",
    "     print( \"instance variable\")   \n",
    "     print(self.a+self.b+self.c)\n",
    "my=add()\n",
    "my.sum(30)\n",
    "my.value()\n",
    "        "
   ]
  },
  {
   "cell_type": "code",
   "execution_count": 44,
   "metadata": {},
   "outputs": [
    {
     "name": "stdout",
     "output_type": "stream",
     "text": [
      "local variable\n",
      "10\n"
     ]
    }
   ],
   "source": [
    "# 2.local variable\n",
    "class add:\n",
    "    def sum(nav):\n",
    "     a=10\n",
    "     print(\"local variable\")\n",
    "     print(a)\n",
    "my=add()\n",
    "my.sum()\n",
    "   "
   ]
  },
  {
   "cell_type": "code",
   "execution_count": 20,
   "metadata": {},
   "outputs": [
    {
     "name": "stdout",
     "output_type": "stream",
     "text": [
      "static variable\n",
      "10\n"
     ]
    }
   ],
   "source": [
    "# 3.static variable\n",
    "class add:\n",
    "    a=10\n",
    "    def sum(nav):\n",
    "     print(\"static variable\")\n",
    "     print(add.a)\n",
    "my=add()\n",
    "my.sum()"
   ]
  }
 ],
 "metadata": {
  "kernelspec": {
   "display_name": "Python 3",
   "language": "python",
   "name": "python3"
  },
  "language_info": {
   "codemirror_mode": {
    "name": "ipython",
    "version": 3
   },
   "file_extension": ".py",
   "mimetype": "text/x-python",
   "name": "python",
   "nbconvert_exporter": "python",
   "pygments_lexer": "ipython3",
   "version": "3.8.3"
  }
 },
 "nbformat": 4,
 "nbformat_minor": 4
}
