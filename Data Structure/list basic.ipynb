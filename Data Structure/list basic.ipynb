{
 "cells": [
  {
   "cell_type": "code",
   "execution_count": 41,
   "metadata": {},
   "outputs": [
    {
     "name": "stdout",
     "output_type": "stream",
     "text": [
      "using for loop\n",
      "2018\n",
      "naveen\n",
      "MIT\n",
      "97.5\n",
      "using for loop range\n",
      "2018\n",
      "naveen\n",
      "MIT\n",
      "97.5\n",
      "without for loop\n",
      "[2018, 'naveen', 'MIT', 97.5]\n",
      "through index search\n",
      "97.5\n"
     ]
    }
   ],
   "source": [
    "# 11.list retrivals\n",
    "k=[2018,'naveen',\"MIT\",97.5]\n",
    "print(\"using for loop\")\n",
    "for i in k:\n",
    " print(i)\n",
    "print(\"using for loop range\")\n",
    "for i in range(0,len(k)):\n",
    " print(k[i])\n",
    "print(\"without for loop\")\n",
    "print(k)\n",
    "print(\"through index search\")\n",
    "print(k[3])\n"
   ]
  },
  {
   "cell_type": "code",
   "execution_count": 50,
   "metadata": {},
   "outputs": [
    {
     "name": "stdout",
     "output_type": "stream",
     "text": [
      "array values\n",
      "2018\n",
      "naveen\n",
      "MIT\n",
      "97.5\n",
      "after reversing\n",
      "[97.5, 'MIT', 'naveen', 2018]\n"
     ]
    }
   ],
   "source": [
    "# 12.reversing an list\n",
    "a=[2018,'naveen',\"MIT\",97.5]\n",
    "print(\"array values\")\n",
    "for i in a:\n",
    " print(i)\n",
    "a.reverse()\n",
    "print(\"after reversing\")\n",
    "print(a)\n",
    "\n"
   ]
  },
  {
   "cell_type": "code",
   "execution_count": 49,
   "metadata": {},
   "outputs": [
    {
     "name": "stdout",
     "output_type": "stream",
     "text": [
      "['naveen', 'sainadh', '2018', '2019', 'sakthi', '2020']\n",
      "after deletion\n",
      "['sainadh', '2018', '2019', 'sakthi', '2020']\n",
      "after deletion\n",
      "['sainadh', '2018', 'sakthi', '2020']\n",
      "after insertion\n",
      "['sainadh', '2018', 'sakthi', '2020', 'set']\n",
      "after insertion\n",
      "['sainadh', '2018', 'sakthi', '2020', 'set', 99.5, 'welcome', 's']\n"
     ]
    }
   ],
   "source": [
    "#13.Insertion and deletion in a list\n",
    "a=[]\n",
    "a.insert(0,'naveen')\n",
    "a.insert(1,'sainadh')\n",
    "a.insert(2,'2018')\n",
    "a.insert(3,'2019')\n",
    "a.insert(4,'sakthi')\n",
    "a.insert(5,'2020')\n",
    "size=len(a)\n",
    "print(a)\n",
    "a.remove('naveen')\n",
    "print(\"after deletion\")\n",
    "print(a)\n",
    "a.pop(2)\n",
    "print(\"after deletion\")\n",
    "print(a)\n",
    "a.append(\"set\")\n",
    "print(\"after insertion\")\n",
    "print(a)\n",
    "a.extend([99.5,\"welcome\",'s'])\n",
    "print(\"after insertion\")\n",
    "print(a)"
   ]
  },
  {
   "cell_type": "code",
   "execution_count": 53,
   "metadata": {},
   "outputs": [
    {
     "name": "stdout",
     "output_type": "stream",
     "text": [
      "minimum element :\n",
      "12\n",
      "maximum element :\n",
      "75\n",
      "after sorting :\n",
      "[12, 23, 27, 45, 49, 67, 75]\n"
     ]
    }
   ],
   "source": [
    "#14.finding minimum and maxmium in a list and sorting\n",
    "h=[12,45,67,23,75,49,27]\n",
    "print(\"minimum element :\")\n",
    "print(min(h))\n",
    "print(\"maximum element :\")\n",
    "print(max(h))\n",
    "print(\"after sorting :\")\n",
    "h.sort()\n",
    "print(h)"
   ]
  }
 ],
 "metadata": {
  "kernelspec": {
   "display_name": "Python 3",
   "language": "python",
   "name": "python3"
  },
  "language_info": {
   "codemirror_mode": {
    "name": "ipython",
    "version": 3
   },
   "file_extension": ".py",
   "mimetype": "text/x-python",
   "name": "python",
   "nbconvert_exporter": "python",
   "pygments_lexer": "ipython3",
   "version": "3.8.3"
  }
 },
 "nbformat": 4,
 "nbformat_minor": 4
}
