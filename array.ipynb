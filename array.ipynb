{
 "cells": [
  {
   "cell_type": "code",
   "execution_count": 16,
   "metadata": {},
   "outputs": [
    {
     "name": "stdout",
     "output_type": "stream",
     "text": [
      "using for loop\n",
      "10\n",
      "20\n",
      "30\n",
      "40\n",
      "50\n",
      "using for loop range\n",
      "10\n",
      "20\n",
      "30\n",
      "40\n",
      "50\n",
      "without for loop\n",
      "array('i', [10, 20, 30, 40, 50])\n",
      "through index search\n",
      "40\n"
     ]
    }
   ],
   "source": [
    "# 6.array retrival\n",
    "from array import*\n",
    "m=array('i',[10,20,30,40,50])\n",
    "print(\"using for loop\")\n",
    "for i in m:\n",
    " print(i)\n",
    "print(\"using for loop range\")\n",
    "for i in range(0,len(m)):\n",
    " print(m[i])\n",
    "print(\"without for loop\")\n",
    "print(m)\n",
    "print(\"through index search\")\n",
    "print(m[3])\n"
   ]
  },
  {
   "cell_type": "code",
   "execution_count": 39,
   "metadata": {},
   "outputs": [
    {
     "name": "stdout",
     "output_type": "stream",
     "text": [
      "array('u', 'naveen')\n",
      "after deletion\n",
      "array('u', 'aveen')\n",
      "after deletion\n",
      "array('u', 'avee')\n"
     ]
    }
   ],
   "source": [
    "# 7. array insertion and deletion\n",
    "from array import*\n",
    "a=array('u',[]);\n",
    "a.insert(0,'n')\n",
    "a.insert(1,'a')\n",
    "a.insert(2,'v')\n",
    "a.insert(3,'e')\n",
    "a.insert(4,'e')\n",
    "a.insert(5,'n')\n",
    "size=len(a)\n",
    "print(a)\n",
    "a.remove('n')\n",
    "print(\"after deletion\")\n",
    "print(a)\n",
    "a.pop(4)\n",
    "print(\"after deletion\")\n",
    "print(a)"
   ]
  },
  {
   "cell_type": "code",
   "execution_count": 40,
   "metadata": {},
   "outputs": [
    {
     "name": "stdout",
     "output_type": "stream",
     "text": [
      "array values\n",
      "1\n",
      "2\n",
      "3\n",
      "4\n",
      "5\n",
      "after insertion\n",
      "array('i', [1, 2, 3, 4, 5, 6])\n",
      "after insertion\n",
      "1\n",
      "2\n",
      "3\n",
      "4\n",
      "5\n",
      "6\n",
      "7\n",
      "8\n",
      "9\n",
      "10\n"
     ]
    }
   ],
   "source": [
    "# 8. array appending and extending\n",
    "from array import*\n",
    "a=array('i',[1,2,3,4,5]);\n",
    "print(\"array values\")\n",
    "for i in a:\n",
    " print(i)\n",
    "a.append(6)\n",
    "print(\"after insertion\")\n",
    "print(a)\n",
    "a.extend([7,8,9,10])\n",
    "print(\"after insertion\")\n",
    "for i in a:\n",
    " print(i)"
   ]
  },
  {
   "cell_type": "code",
   "execution_count": 28,
   "metadata": {},
   "outputs": [
    {
     "name": "stdout",
     "output_type": "stream",
     "text": [
      "array values\n",
      "a\n",
      "b\n",
      "c\n",
      "d\n",
      "e\n",
      "after reversing\n",
      "array('u', 'edcba')\n"
     ]
    }
   ],
   "source": [
    "# 9.reversing an array\n",
    "from array import*\n",
    "a=array('u',['a','b','c','d','e']);\n",
    "print(\"array values\")\n",
    "for i in a:\n",
    " print(i)\n",
    "a.reverse()\n",
    "print(\"after reversing\")\n",
    "print(a)\n"
   ]
  },
  {
   "cell_type": "code",
   "execution_count": 37,
   "metadata": {},
   "outputs": [
    {
     "name": "stdout",
     "output_type": "stream",
     "text": [
      "sorting ascending order\n",
      "[11, 22, 33, 44, 55]\n",
      "sorting descending order\n",
      "[55, 44, 33, 22, 11]\n"
     ]
    }
   ],
   "source": [
    "# 10.sorting an array\n",
    "from array import*\n",
    "h=[55,44,33,11,22]\n",
    "h.sort(reverse=False)\n",
    "print(\"sorting ascending order\")\n",
    "print(h)\n",
    "h.sort(reverse=True)\n",
    "print(\"sorting descending order\")\n",
    "print(h)"
   ]
  },
  {
   "cell_type": "code",
   "execution_count": null,
   "metadata": {},
   "outputs": [],
   "source": []
  }
 ],
 "metadata": {
  "kernelspec": {
   "display_name": "Python 3",
   "language": "python",
   "name": "python3"
  },
  "language_info": {
   "codemirror_mode": {
    "name": "ipython",
    "version": 3
   },
   "file_extension": ".py",
   "mimetype": "text/x-python",
   "name": "python",
   "nbconvert_exporter": "python",
   "pygments_lexer": "ipython3",
   "version": "3.8.3"
  }
 },
 "nbformat": 4,
 "nbformat_minor": 4
}
