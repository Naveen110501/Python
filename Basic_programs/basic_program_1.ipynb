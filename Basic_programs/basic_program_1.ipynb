{
 "cells": [
  {
   "cell_type": "code",
   "execution_count": 1,
   "metadata": {},
   "outputs": [
    {
     "name": "stdout",
     "output_type": "stream",
     "text": [
      "Sum of the numbers: 580\n"
     ]
    }
   ],
   "source": [
    "# 1.summation of n numbers\n",
    "def sum(numbers):\n",
    "   total=0\n",
    "   for num in numbers:\n",
    "      total+=num\n",
    "   print(\"Sum of the numbers:\", total)\n",
    "sum((10,25,30,15,500))"
   ]
  },
  {
   "cell_type": "code",
   "execution_count": 3,
   "metadata": {},
   "outputs": [
    {
     "name": "stdout",
     "output_type": "stream",
     "text": [
      "Enter year: 1999\n",
      "1999 is not a leap year\n"
     ]
    }
   ],
   "source": [
    "# 2. finding leaf year or not\n",
    "year=int(input(\"Enter year: \"))\n",
    "if year%4==0 and year%100!=0:\n",
    "    print(year,\"is a leap year\")\n",
    "elif year%100==0:\n",
    "    print(year, \"is not a leap year\")\n",
    "elif year%400==0:\n",
    "    print(year, \"is a leap year\")\n",
    "else:\n",
    "    print(year, \"is not a leap year\")"
   ]
  },
  {
   "cell_type": "code",
   "execution_count": 8,
   "metadata": {},
   "outputs": [
    {
     "name": "stdout",
     "output_type": "stream",
     "text": [
      "54 is in range\n"
     ]
    }
   ],
   "source": [
    "# 3.testing a number in a range \n",
    "def test_range(num):\n",
    "   if num in range(0, 101):\n",
    "      print(\"%s is in range\"%str(num))\n",
    "   else:\n",
    "      print(\"%s is not in range\"%str(num))\n",
    "test_range(54)"
   ]
  },
  {
   "cell_type": "code",
   "execution_count": 6,
   "metadata": {},
   "outputs": [
    {
     "name": "stdout",
     "output_type": "stream",
     "text": [
      "Enter a number: 13\n",
      "13 is a prime number\n"
     ]
    }
   ],
   "source": [
    "# 4.checking prime or not\n",
    "number=int(input(\"Enter a number: \"))\n",
    "if number>1:\n",
    "    for i in range(2,number):\n",
    "        if (number%i)==0:\n",
    "            print(number,\"is not a prime number\")\n",
    "            break\n",
    "    else:\n",
    "        print(number,\"is a prime number\")\n",
    "else:\n",
    "    print(number,\"is not a prime number\")"
   ]
  },
  {
   "cell_type": "code",
   "execution_count": 7,
   "metadata": {},
   "outputs": [
    {
     "name": "stdout",
     "output_type": "stream",
     "text": [
      "Enter a character: e\n",
      "e is a vowel\n"
     ]
    }
   ],
   "source": [
    "# 5.checking vowel or consonant\n",
    "ch=input(\"Enter a character: \")\n",
    "if(ch=='A' or ch=='a' or ch=='E' or ch =='e' or ch=='I'\n",
    " or ch=='i' or ch=='O' or ch=='o' or ch=='U' or ch=='u'):\n",
    "    print(ch,\"is a vowel\")\n",
    "else:\n",
    "    print(ch,\"is a consonant\")"
   ]
  }
 ],
 "metadata": {
  "kernelspec": {
   "display_name": "Python 3",
   "language": "python",
   "name": "python3"
  },
  "language_info": {
   "codemirror_mode": {
    "name": "ipython",
    "version": 3
   },
   "file_extension": ".py",
   "mimetype": "text/x-python",
   "name": "python",
   "nbconvert_exporter": "python",
   "pygments_lexer": "ipython3",
   "version": "3.8.3"
  }
 },
 "nbformat": 4,
 "nbformat_minor": 4
}
