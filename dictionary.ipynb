{
 "cells": [
  {
   "cell_type": "code",
   "execution_count": 8,
   "metadata": {},
   "outputs": [
    {
     "name": "stdout",
     "output_type": "stream",
     "text": [
      "key\tvalues\n",
      "1 \t naveen\n",
      "6 \t mit\n",
      "3 \t sakthi\n",
      "4 \t sainadh\n",
      "key\n",
      "1\n",
      "6\n",
      "3\n",
      "4\n",
      "values\n",
      "naveen\n",
      "mit\n",
      "sakthi\n",
      "sainadh\n",
      "after deletion\n",
      "key\tvalues\n",
      "1 \t naveen\n",
      "6 \t mit\n",
      "3 \t sakthi\n"
     ]
    }
   ],
   "source": [
    "# 20.insertion and deletion and retrival in dictionary\n",
    "data={1:\"naveen\",6:\"mit\"}\n",
    "data[3]=\"sakthi\"\n",
    "data[4]=\"sainadh\"\n",
    "print(\"key\\tvalues\")\n",
    "for i,j in data.items():\n",
    "    print(i,\"\\t\",j)\n",
    "print(\"key\")   \n",
    "for i in data.keys():\n",
    " print(i)\n",
    "print(\"values\")\n",
    "for i in data.values():\n",
    "    print(i)\n",
    "data.pop(4)\n",
    "print(\"after deletion\\nkey\\tvalues\")\n",
    "for i,j in data.items():\n",
    "    print(i,\"\\t\",j)"
   ]
  },
  {
   "cell_type": "code",
   "execution_count": 11,
   "metadata": {},
   "outputs": [
    {
     "name": "stdout",
     "output_type": "stream",
     "text": [
      "{0: 'IT', 4: 'CSE', 7: 'EI'}\n",
      "after updation\n",
      "{0: 'IT', 4: 'CSE', 7: 'mech'}\n"
     ]
    }
   ],
   "source": [
    "# updation in dictionary\n",
    "num=dict({})\n",
    "num[0]=\"IT\"\n",
    "num[4]=\"CSE\"\n",
    "num[7]=\"EI\"\n",
    "print(num)\n",
    "num[7]=\"mech\"\n",
    "print(\"after updation\")\n",
    "print(num)"
   ]
  },
  {
   "cell_type": "code",
   "execution_count": null,
   "metadata": {},
   "outputs": [],
   "source": []
  }
 ],
 "metadata": {
  "kernelspec": {
   "display_name": "Python 3",
   "language": "python",
   "name": "python3"
  },
  "language_info": {
   "codemirror_mode": {
    "name": "ipython",
    "version": 3
   },
   "file_extension": ".py",
   "mimetype": "text/x-python",
   "name": "python",
   "nbconvert_exporter": "python",
   "pygments_lexer": "ipython3",
   "version": "3.8.3"
  }
 },
 "nbformat": 4,
 "nbformat_minor": 4
}
