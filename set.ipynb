{
 "cells": [
  {
   "cell_type": "code",
   "execution_count": 1,
   "metadata": {},
   "outputs": [
    {
     "name": "stdout",
     "output_type": "stream",
     "text": [
      "enter the number of elements 1\n",
      "enter the element sakthi\n",
      "elements in set1 \n",
      "{'naveen', 'sakthi'}\n",
      "enter the number of elements 1\n",
      "enter the element sainadh\n",
      "elements in set2 \n",
      "{2018, 2019, 2020, 'sainadh'}\n",
      "after set union\n",
      "{2018, 'naveen', 2019, 2020, 'sainadh', 'sakthi'}\n"
     ]
    }
   ],
   "source": [
    "# 15. finding union between the set\n",
    "m={'naveen'}\n",
    "n=int(input(\"enter the number of elements \"))\n",
    "for i in range(n):\n",
    "  m.add(input(\"enter the element \"))\n",
    "print(\"elements in set1 \")\n",
    "print(m)\n",
    "o={2018,2019,2020}\n",
    "n=int(input(\"enter the number of elements \"))\n",
    "for i in range(n):\n",
    "  o.add(input(\"enter the element \"))\n",
    "print(\"elements in set2 \")\n",
    "print(o) \n",
    "k=m|o\n",
    "print(\"after set union\")\n",
    "print(k)"
   ]
  },
  {
   "cell_type": "code",
   "execution_count": 1,
   "metadata": {},
   "outputs": [
    {
     "name": "stdout",
     "output_type": "stream",
     "text": [
      "enter the number of elements 1\n",
      "enter the element sakthi\n",
      "elements in set1 \n",
      "{'naveen', 'sakthi'}\n",
      "enter the number of elements 1\n",
      "enter the element 2011\n",
      "elements in set2 \n",
      "{2018, 2019, 2020, '2011', 'sakhti'}\n",
      "after set difference\n",
      "{'naveen', 'sakthi'}\n"
     ]
    }
   ],
   "source": [
    "# 16. finding difference between the set\n",
    "m={'naveen'}\n",
    "n=int(input(\"enter the number of elements \"))\n",
    "for i in range(n):\n",
    "  m.add(input(\"enter the element \"))\n",
    "print(\"elements in set1 \")\n",
    "print(m)\n",
    "o={2018,2019,2020,'sakhti'}\n",
    "n=int(input(\"enter the number of elements \"))\n",
    "for i in range(n):\n",
    "  o.add(input(\"enter the element \"))\n",
    "print(\"elements in set2 \")\n",
    "print(o) \n",
    "k=m.difference(o)\n",
    "print(\"after set difference\")\n",
    "print(k)"
   ]
  },
  {
   "cell_type": "code",
   "execution_count": 2,
   "metadata": {},
   "outputs": [
    {
     "name": "stdout",
     "output_type": "stream",
     "text": [
      "enter the number of elements 1\n",
      "enter the element sainadh\n",
      "elements in set1 \n",
      "{'naveen', 'sainadh'}\n",
      "enter the number of elements 1\n",
      "enter the element 2011\n",
      "elements in set2 \n",
      "{2018, 2019, 2020, 'sakthi', '2011'}\n",
      "after intersection\n",
      "set()\n"
     ]
    }
   ],
   "source": [
    "# 17. finding intersection between the set\n",
    "m={'naveen'}\n",
    "n=int(input(\"enter the number of elements \"))\n",
    "for i in range(n):\n",
    "  m.add(input(\"enter the element \"))\n",
    "print(\"elements in set1 \")\n",
    "print(m)\n",
    "o={2018,2019,2020,'sakthi'}\n",
    "n=int(input(\"enter the number of elements \"))\n",
    "for i in range(n):\n",
    "  o.add(input(\"enter the element \"))\n",
    "print(\"elements in set2 \")\n",
    "print(o) \n",
    "k=m&o\n",
    "print(\"after intersection\")\n",
    "print(k)"
   ]
  },
  {
   "cell_type": "code",
   "execution_count": 3,
   "metadata": {},
   "outputs": [
    {
     "name": "stdout",
     "output_type": "stream",
     "text": [
      "enter the number of elements 1\n",
      "enter the element sakthi\n",
      "elements in set1 \n",
      "{'naveen', 'sakthi'}\n",
      "enter the number of elements 2\n",
      "enter the element sakthi\n",
      "enter the element sainadh\n",
      "elements in set2 \n",
      "{2018, 2019, 2020, 'sakthi', 'sainadh'}\n",
      "after symmetric difference\n",
      "{'naveen', 2018, 2019, 2020, 'sainadh'}\n"
     ]
    }
   ],
   "source": [
    "# 18. finding symmetric difference between the set\n",
    "m={'naveen'}\n",
    "n=int(input(\"enter the number of elements \"))\n",
    "for i in range(n):\n",
    "  m.add(input(\"enter the element \"))\n",
    "print(\"elements in set1 \")\n",
    "print(m)\n",
    "o={2018,2019,2020}\n",
    "n=int(input(\"enter the number of elements \"))\n",
    "for i in range(n):\n",
    "  o.add(input(\"enter the element \"))\n",
    "print(\"elements in set2 \")\n",
    "print(o) \n",
    "k=m^o\n",
    "print(\"after symmetric difference\")\n",
    "print(k)"
   ]
  },
  {
   "cell_type": "code",
   "execution_count": 9,
   "metadata": {},
   "outputs": [
    {
     "name": "stdout",
     "output_type": "stream",
     "text": [
      "elemnts in list\n",
      "{2018, 2019, 2020, 'ceg', 'mit', 'naveen', 'sakthi', 'sainadh'}\n",
      "after deletion\n",
      "{2018, 2019, 2020, 'ceg', 'mit', 'sakthi', 'sainadh'}\n",
      "after deletion\n",
      "{2018, 2019, 'ceg', 'mit', 'sakthi', 'sainadh'}\n"
     ]
    }
   ],
   "source": [
    "# 19 .insertion and deletion in a set\n",
    "a=set([2018,'sakthi','mit','naveen',2020])\n",
    "a.add('sainadh')\n",
    "a.add('ceg')\n",
    "a.add(2019)\n",
    "size=len(a)\n",
    "print(\"elemnts in list\")\n",
    "print(a)\n",
    "a.remove('naveen')\n",
    "print(\"after deletion\")\n",
    "print(a)\n",
    "a.discard(2020)\n",
    "print(\"after deletion\")\n",
    "print(a)"
   ]
  },
  {
   "cell_type": "code",
   "execution_count": 10,
   "metadata": {},
   "outputs": [
    {
     "name": "stdout",
     "output_type": "stream",
     "text": [
      "elemnts in list\n",
      "{2018, 2020, 'mit', 'naveen', 'sakthi'}\n",
      "after updation\n",
      "{2018, 2019, 2020, 'ceg', 'mit', 'naveen', 'sakthi', 'sainadh'}\n"
     ]
    }
   ],
   "source": [
    "# 20. updation in a set\n",
    "a=set([2018,'sakthi','mit','naveen',2020])\n",
    "b={'sainadh','ceg',2019}\n",
    "print(\"elemnts in list\")\n",
    "print(a)\n",
    "a.update(b)\n",
    "print(\"after updation\")\n",
    "print(a)"
   ]
  },
  {
   "cell_type": "code",
   "execution_count": null,
   "metadata": {},
   "outputs": [],
   "source": []
  }
 ],
 "metadata": {
  "kernelspec": {
   "display_name": "Python 3",
   "language": "python",
   "name": "python3"
  },
  "language_info": {
   "codemirror_mode": {
    "name": "ipython",
    "version": 3
   },
   "file_extension": ".py",
   "mimetype": "text/x-python",
   "name": "python",
   "nbconvert_exporter": "python",
   "pygments_lexer": "ipython3",
   "version": "3.8.3"
  }
 },
 "nbformat": 4,
 "nbformat_minor": 4
}
