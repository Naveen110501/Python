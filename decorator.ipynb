{
 "cells": [
  {
   "cell_type": "code",
   "execution_count": 12,
   "metadata": {},
   "outputs": [
    {
     "name": "stdout",
     "output_type": "stream",
     "text": [
      "welcome to python\n",
      "naveen\n"
     ]
    }
   ],
   "source": [
    "# 21.decorating a function\n",
    "def name(func):\n",
    " def find():\n",
    "    print(\"welcome to python\")\n",
    "    func()\n",
    " return find\n",
    "@name\n",
    "def my():\n",
    " print(\"naveen\")\n",
    "my()\n"
   ]
  },
  {
   "cell_type": "code",
   "execution_count": 14,
   "metadata": {},
   "outputs": [
    {
     "name": "stdout",
     "output_type": "stream",
     "text": [
      "sakhti\n"
     ]
    }
   ],
   "source": [
    "# 22.Arbitrary Keyword Arguments\n",
    "def name():\n",
    " def find(** org):\n",
    "    print(org[\"name\"])\n",
    " return find\n",
    "my=name()\n",
    "my(name=\"sakhti\")"
   ]
  },
  {
   "cell_type": "code",
   "execution_count": 15,
   "metadata": {},
   "outputs": [
    {
     "name": "stdout",
     "output_type": "stream",
     "text": [
      "50\n"
     ]
    }
   ],
   "source": [
    "# 23.Keyword Arguments\n",
    "def name():\n",
    " def find(* hdc):\n",
    "    print(hdc[4])\n",
    " return find\n",
    "my=name()\n",
    "my(10,20,30,40,50)"
   ]
  },
  {
   "cell_type": "code",
   "execution_count": 23,
   "metadata": {},
   "outputs": [
    {
     "name": "stdout",
     "output_type": "stream",
     "text": [
      "after addition\n",
      "30\n",
      "after substraction\n",
      "10\n"
     ]
    }
   ],
   "source": [
    "# 24.chaining a decorator\n",
    "def value(func):\n",
    "    def add():\n",
    "        a=10\n",
    "        b=20\n",
    "        func()\n",
    "        print(a+b)\n",
    "        print(\"after substraction\")\n",
    "    return add\n",
    "def value1(func):\n",
    "    def sub():\n",
    "        a=20\n",
    "        b=10\n",
    "        print(\"after addition\")\n",
    "        func()\n",
    "        print(a-b)\n",
    "    return sub\n",
    "@value1\n",
    "@value\n",
    "def msg():\n",
    " pass\n",
    "msg()"
   ]
  },
  {
   "cell_type": "code",
   "execution_count": 32,
   "metadata": {},
   "outputs": [
    {
     "name": "stdout",
     "output_type": "stream",
     "text": [
      "after multiplication\n",
      "200\n",
      "arithmetic operation\n"
     ]
    }
   ],
   "source": [
    "# 25. another way of implementing a decorator\n",
    "def value(func):\n",
    "    def mul():\n",
    "        a=10\n",
    "        b=20\n",
    "        print(\"after multiplication\")\n",
    "        print(a*b)\n",
    "        func()\n",
    "    return mul\n",
    "def nav():\n",
    " print(\"arithmetic operation\")\n",
    "nav=value(nav)\n",
    "nav()"
   ]
  },
  {
   "cell_type": "code",
   "execution_count": null,
   "metadata": {},
   "outputs": [],
   "source": []
  }
 ],
 "metadata": {
  "kernelspec": {
   "display_name": "Python 3",
   "language": "python",
   "name": "python3"
  },
  "language_info": {
   "codemirror_mode": {
    "name": "ipython",
    "version": 3
   },
   "file_extension": ".py",
   "mimetype": "text/x-python",
   "name": "python",
   "nbconvert_exporter": "python",
   "pygments_lexer": "ipython3",
   "version": "3.8.3"
  }
 },
 "nbformat": 4,
 "nbformat_minor": 4
}
