{
 "cells": [
  {
   "cell_type": "code",
   "execution_count": 21,
   "metadata": {},
   "outputs": [
    {
     "name": "stdout",
     "output_type": "stream",
     "text": [
      "enter the number\t121\n",
      "the given number are palindrome\n"
     ]
    }
   ],
   "source": [
    "# 1.palindrome checking\n",
    "def palin(num):\n",
    " m=num\n",
    " k=0\n",
    " while(m!=0):\n",
    "  k=(k*10)+int((m%10))\n",
    "  m=int(m/10)\n",
    " if(k is num):\n",
    "  print(\"the given number are palindrome\")\n",
    " else: \n",
    "  print(\"the given number are not palindrome\")\n",
    "num=int(input(\"enter the number\\t\"))\n",
    "palin(num)"
   ]
  },
  {
   "cell_type": "code",
   "execution_count": 22,
   "metadata": {},
   "outputs": [
    {
     "name": "stdout",
     "output_type": "stream",
     "text": [
      "enter the number : \t5\n"
     ]
    },
    {
     "data": {
      "text/plain": [
       "120"
      ]
     },
     "execution_count": 22,
     "metadata": {},
     "output_type": "execute_result"
    }
   ],
   "source": [
    "# 2.factorial program\n",
    "a=int(input(\"enter the number : \\t\"))\n",
    "def fact(a):\n",
    " if((a==0)or(a==1)):\n",
    "    return 1\n",
    " else:\n",
    "    return a*fact(a-1)\n",
    "fact(a)\n",
    "\n"
   ]
  },
  {
   "cell_type": "code",
   "execution_count": 23,
   "metadata": {},
   "outputs": [
    {
     "name": "stdout",
     "output_type": "stream",
     "text": [
      "enter the number : \t87\n",
      "87 is odd number\n"
     ]
    }
   ],
   "source": [
    "# 3.finding the number odd or even or negative\n",
    "n=int(input(\"enter the number : \\t\"))\n",
    "def find(n):\n",
    " if(n%2==0):\n",
    "    print(n,\"is even number\")\n",
    " elif(n<0):\n",
    "    print(n,\"is negative number\")\n",
    " else: \n",
    "     print(n,\"is odd number\")\n",
    "find(n)  "
   ]
  },
  {
   "cell_type": "code",
   "execution_count": 24,
   "metadata": {},
   "outputs": [
    {
     "name": "stdout",
     "output_type": "stream",
     "text": [
      "enter the string\tNavEen\n",
      "a\n",
      "E\n",
      "e\n"
     ]
    }
   ],
   "source": [
    "# 4.finding vowels in a string\n",
    "a=input(\"enter the string\\t\")\n",
    "def find(a):\n",
    " for i in a:\n",
    "     if(i=='a' or i=='e' or i=='i' or i=='o' or i=='u' or i=='A' or i=='E' or i=='I' or i=='O' or i=='U'):\n",
    "        print(i)\n",
    "     else:\n",
    "        continue\n",
    "find(a)        "
   ]
  },
  {
   "cell_type": "code",
   "execution_count": 26,
   "metadata": {},
   "outputs": [
    {
     "name": "stdout",
     "output_type": "stream",
     "text": [
      "enter the number\t5\n",
      "sum= 15\n"
     ]
    }
   ],
   "source": [
    "# 5.finding sum of n natural numbers\n",
    "n=int(input(\"enter the number\\t\"))\n",
    "def add(n):\n",
    " i=0\n",
    " sum=0\n",
    " while(i<=n):\n",
    "    sum=sum+i;\n",
    "    i=i+1\n",
    " print(\"sum=\",sum)    \n",
    "add(n)"
   ]
  },
  {
   "cell_type": "code",
   "execution_count": null,
   "metadata": {},
   "outputs": [],
   "source": []
  }
 ],
 "metadata": {
  "kernelspec": {
   "display_name": "Python 3",
   "language": "python",
   "name": "python3"
  },
  "language_info": {
   "codemirror_mode": {
    "name": "ipython",
    "version": 3
   },
   "file_extension": ".py",
   "mimetype": "text/x-python",
   "name": "python",
   "nbconvert_exporter": "python",
   "pygments_lexer": "ipython3",
   "version": "3.8.3"
  }
 },
 "nbformat": 4,
 "nbformat_minor": 4
}
